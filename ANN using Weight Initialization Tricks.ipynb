{
 "cells": [
  {
   "cell_type": "code",
   "execution_count": 1,
   "id": "290b0d73",
   "metadata": {},
   "outputs": [],
   "source": [
    "import pandas as pd\n",
    "import numpy as np"
   ]
  },
  {
   "cell_type": "code",
   "execution_count": 2,
   "id": "88436eef",
   "metadata": {},
   "outputs": [
    {
     "data": {
      "text/html": [
       "<div>\n",
       "<style scoped>\n",
       "    .dataframe tbody tr th:only-of-type {\n",
       "        vertical-align: middle;\n",
       "    }\n",
       "\n",
       "    .dataframe tbody tr th {\n",
       "        vertical-align: top;\n",
       "    }\n",
       "\n",
       "    .dataframe thead th {\n",
       "        text-align: right;\n",
       "    }\n",
       "</style>\n",
       "<table border=\"1\" class=\"dataframe\">\n",
       "  <thead>\n",
       "    <tr style=\"text-align: right;\">\n",
       "      <th></th>\n",
       "      <th>RowNumber</th>\n",
       "      <th>CustomerId</th>\n",
       "      <th>Surname</th>\n",
       "      <th>CreditScore</th>\n",
       "      <th>Geography</th>\n",
       "      <th>Gender</th>\n",
       "      <th>Age</th>\n",
       "      <th>Tenure</th>\n",
       "      <th>Balance</th>\n",
       "      <th>NumOfProducts</th>\n",
       "      <th>HasCrCard</th>\n",
       "      <th>IsActiveMember</th>\n",
       "      <th>EstimatedSalary</th>\n",
       "      <th>Exited</th>\n",
       "    </tr>\n",
       "  </thead>\n",
       "  <tbody>\n",
       "    <tr>\n",
       "      <th>0</th>\n",
       "      <td>1</td>\n",
       "      <td>15634602</td>\n",
       "      <td>Hargrave</td>\n",
       "      <td>619</td>\n",
       "      <td>France</td>\n",
       "      <td>Female</td>\n",
       "      <td>42</td>\n",
       "      <td>2</td>\n",
       "      <td>0.00</td>\n",
       "      <td>1</td>\n",
       "      <td>1</td>\n",
       "      <td>1</td>\n",
       "      <td>101348.88</td>\n",
       "      <td>1</td>\n",
       "    </tr>\n",
       "    <tr>\n",
       "      <th>1</th>\n",
       "      <td>2</td>\n",
       "      <td>15647311</td>\n",
       "      <td>Hill</td>\n",
       "      <td>608</td>\n",
       "      <td>Spain</td>\n",
       "      <td>Female</td>\n",
       "      <td>41</td>\n",
       "      <td>1</td>\n",
       "      <td>83807.86</td>\n",
       "      <td>1</td>\n",
       "      <td>0</td>\n",
       "      <td>1</td>\n",
       "      <td>112542.58</td>\n",
       "      <td>0</td>\n",
       "    </tr>\n",
       "    <tr>\n",
       "      <th>2</th>\n",
       "      <td>3</td>\n",
       "      <td>15619304</td>\n",
       "      <td>Onio</td>\n",
       "      <td>502</td>\n",
       "      <td>France</td>\n",
       "      <td>Female</td>\n",
       "      <td>42</td>\n",
       "      <td>8</td>\n",
       "      <td>159660.80</td>\n",
       "      <td>3</td>\n",
       "      <td>1</td>\n",
       "      <td>0</td>\n",
       "      <td>113931.57</td>\n",
       "      <td>1</td>\n",
       "    </tr>\n",
       "    <tr>\n",
       "      <th>3</th>\n",
       "      <td>4</td>\n",
       "      <td>15701354</td>\n",
       "      <td>Boni</td>\n",
       "      <td>699</td>\n",
       "      <td>France</td>\n",
       "      <td>Female</td>\n",
       "      <td>39</td>\n",
       "      <td>1</td>\n",
       "      <td>0.00</td>\n",
       "      <td>2</td>\n",
       "      <td>0</td>\n",
       "      <td>0</td>\n",
       "      <td>93826.63</td>\n",
       "      <td>0</td>\n",
       "    </tr>\n",
       "    <tr>\n",
       "      <th>4</th>\n",
       "      <td>5</td>\n",
       "      <td>15737888</td>\n",
       "      <td>Mitchell</td>\n",
       "      <td>850</td>\n",
       "      <td>Spain</td>\n",
       "      <td>Female</td>\n",
       "      <td>43</td>\n",
       "      <td>2</td>\n",
       "      <td>125510.82</td>\n",
       "      <td>1</td>\n",
       "      <td>1</td>\n",
       "      <td>1</td>\n",
       "      <td>79084.10</td>\n",
       "      <td>0</td>\n",
       "    </tr>\n",
       "  </tbody>\n",
       "</table>\n",
       "</div>"
      ],
      "text/plain": [
       "   RowNumber  CustomerId   Surname  CreditScore Geography  Gender  Age  \\\n",
       "0          1    15634602  Hargrave          619    France  Female   42   \n",
       "1          2    15647311      Hill          608     Spain  Female   41   \n",
       "2          3    15619304      Onio          502    France  Female   42   \n",
       "3          4    15701354      Boni          699    France  Female   39   \n",
       "4          5    15737888  Mitchell          850     Spain  Female   43   \n",
       "\n",
       "   Tenure    Balance  NumOfProducts  HasCrCard  IsActiveMember  \\\n",
       "0       2       0.00              1          1               1   \n",
       "1       1   83807.86              1          0               1   \n",
       "2       8  159660.80              3          1               0   \n",
       "3       1       0.00              2          0               0   \n",
       "4       2  125510.82              1          1               1   \n",
       "\n",
       "   EstimatedSalary  Exited  \n",
       "0        101348.88       1  \n",
       "1        112542.58       0  \n",
       "2        113931.57       1  \n",
       "3         93826.63       0  \n",
       "4         79084.10       0  "
      ]
     },
     "execution_count": 2,
     "metadata": {},
     "output_type": "execute_result"
    }
   ],
   "source": [
    "df = pd.read_csv('Churn_MOdelling.csv')\n",
    "df.head()"
   ]
  },
  {
   "cell_type": "code",
   "execution_count": 3,
   "id": "38f09880",
   "metadata": {},
   "outputs": [
    {
     "data": {
      "text/plain": [
       "France     5014\n",
       "Germany    2509\n",
       "Spain      2477\n",
       "Name: Geography, dtype: int64"
      ]
     },
     "execution_count": 3,
     "metadata": {},
     "output_type": "execute_result"
    }
   ],
   "source": [
    "df['Geography'].value_counts()"
   ]
  },
  {
   "cell_type": "code",
   "execution_count": 4,
   "id": "a3a142b1",
   "metadata": {},
   "outputs": [],
   "source": [
    "## Extracting independent columns from third to thirteenth\n",
    "X = df.iloc[:,3:13]\n",
    "\n",
    "## Extracting dependent column Exited\n",
    "y = df.iloc[:,13]"
   ]
  },
  {
   "cell_type": "code",
   "execution_count": 5,
   "id": "7cf3d416",
   "metadata": {},
   "outputs": [],
   "source": [
    "# Create dummies varible \n",
    "geography = pd.get_dummies(X['Geography'],drop_first=True)\n",
    "\n",
    "gender = pd.get_dummies(X['Gender'],drop_first=True)"
   ]
  },
  {
   "cell_type": "code",
   "execution_count": 6,
   "id": "001f9afd",
   "metadata": {},
   "outputs": [],
   "source": [
    "##Now concat the columns in one dataset\n",
    "X = pd.concat([X,geography,gender],axis=1)"
   ]
  },
  {
   "cell_type": "code",
   "execution_count": 7,
   "id": "111df164",
   "metadata": {},
   "outputs": [],
   "source": [
    "## AFter concat we have to remove these columns\n",
    "X = X.drop(['Geography','Gender'],axis=1)"
   ]
  },
  {
   "cell_type": "code",
   "execution_count": 8,
   "id": "80ab27d8",
   "metadata": {},
   "outputs": [],
   "source": [
    "## NO splitting my data\n",
    "from sklearn.model_selection import train_test_split\n",
    "X_train,X_test,y_train,y_test = train_test_split(X,y,test_size=0.2,random_state=0)"
   ]
  },
  {
   "cell_type": "code",
   "execution_count": 9,
   "id": "ee73287c",
   "metadata": {},
   "outputs": [
    {
     "name": "stdout",
     "output_type": "stream",
     "text": [
      "(8000, 11)\n",
      "(2000, 11)\n"
     ]
    }
   ],
   "source": [
    "print(X_train.shape)\n",
    "print(X_test.shape)"
   ]
  },
  {
   "cell_type": "markdown",
   "id": "3be1ffd3",
   "metadata": {},
   "source": [
    "### Now some preprocessing\n",
    "### Feature scaling"
   ]
  },
  {
   "cell_type": "code",
   "execution_count": 10,
   "id": "1bee2204",
   "metadata": {},
   "outputs": [],
   "source": [
    "from sklearn.preprocessing import StandardScaler\n",
    "scaler = StandardScaler()\n",
    "X_train = scaler.fit_transform(X_train)\n",
    "X_test = scaler.transform(X_test)"
   ]
  },
  {
   "cell_type": "markdown",
   "id": "a5e613c0",
   "metadata": {},
   "source": [
    "# Let's Create ANN"
   ]
  },
  {
   "cell_type": "code",
   "execution_count": 11,
   "id": "8f02c5de",
   "metadata": {},
   "outputs": [],
   "source": [
    "import keras\n",
    "from keras.models import Sequential\n",
    "from keras.layers import Dense\n",
    "#from keras.layers import LeakyRelu,PRelu,ELU\n",
    "from keras.layers import Dropout"
   ]
  },
  {
   "cell_type": "code",
   "execution_count": 12,
   "id": "35f2882b",
   "metadata": {},
   "outputs": [],
   "source": [
    "## Initialising the ANN\n",
    "classifier = Sequential()"
   ]
  },
  {
   "cell_type": "markdown",
   "id": "22cb4259",
   "metadata": {},
   "source": [
    "## Adding the input layer and the first hidden layer"
   ]
  },
  {
   "cell_type": "code",
   "execution_count": 37,
   "id": "2aae3348",
   "metadata": {},
   "outputs": [],
   "source": [
    "# Weight initilization technique\n",
    "# 1. he_normal\n",
    "# 2. he_uniform\n",
    "\n",
    "classifier.add(Dense(units=10, kernel_initializer = 'he_normal', activation='relu',input_dim=11))\n",
    "classifier.add(Dropout(0.3))\n",
    "\n",
    "# Adding the second hidden layer\n",
    "classifier.add(Dense(units=20, kernel_initializer = 'he_normal', activation='relu'))\n",
    "classifier.add(Dropout(0.4))\n",
    "\n",
    "# Adding the third hidden layer\n",
    "classifier.add(Dense(units=20, kernel_initializer = 'he_normal', activation='relu'))\n",
    "classifier.add(Dropout(0.2))\n",
    "\n",
    "# Adding output layer\n",
    "classifier.add(Dense(units=1, kernel_initializer = 'glorot_uniform', activation='sigmoid'))\n",
    "\n",
    "# Complete the ANN\n",
    "classifier.compile(optimizer='adam', loss = 'binary_crossentropy',metrics=['accuracy'])"
   ]
  },
  {
   "cell_type": "code",
   "execution_count": 38,
   "id": "b88668e3",
   "metadata": {},
   "outputs": [
    {
     "name": "stdout",
     "output_type": "stream",
     "text": [
      "Epoch 1/100\n",
      "536/536 [==============================] - 9s 6ms/step - loss: 0.5095 - accuracy: 0.7962 - val_loss: 0.5067 - val_accuracy: 0.7955\n",
      "Epoch 2/100\n",
      "536/536 [==============================] - 3s 6ms/step - loss: 0.5062 - accuracy: 0.7962 - val_loss: 0.5076 - val_accuracy: 0.7955\n",
      "Epoch 3/100\n",
      "536/536 [==============================] - 3s 6ms/step - loss: 0.5060 - accuracy: 0.7962 - val_loss: 0.5070 - val_accuracy: 0.7955\n",
      "Epoch 4/100\n",
      "536/536 [==============================] - 3s 5ms/step - loss: 0.5062 - accuracy: 0.7962 - val_loss: 0.5074 - val_accuracy: 0.7955\n",
      "Epoch 5/100\n",
      "536/536 [==============================] - 3s 6ms/step - loss: 0.5062 - accuracy: 0.7962 - val_loss: 0.5065 - val_accuracy: 0.7955\n",
      "Epoch 6/100\n",
      "536/536 [==============================] - 3s 6ms/step - loss: 0.5063 - accuracy: 0.7962 - val_loss: 0.5067 - val_accuracy: 0.7955\n",
      "Epoch 7/100\n",
      "536/536 [==============================] - 3s 5ms/step - loss: 0.5062 - accuracy: 0.7962 - val_loss: 0.5068 - val_accuracy: 0.7955\n",
      "Epoch 8/100\n",
      "536/536 [==============================] - 3s 6ms/step - loss: 0.5059 - accuracy: 0.7962 - val_loss: 0.5088 - val_accuracy: 0.7955\n",
      "Epoch 9/100\n",
      "536/536 [==============================] - 5s 9ms/step - loss: 0.5067 - accuracy: 0.7962 - val_loss: 0.5065 - val_accuracy: 0.7955\n",
      "Epoch 10/100\n",
      "536/536 [==============================] - 4s 7ms/step - loss: 0.5066 - accuracy: 0.7962 - val_loss: 0.5066 - val_accuracy: 0.7955\n",
      "Epoch 11/100\n",
      "536/536 [==============================] - 4s 7ms/step - loss: 0.5059 - accuracy: 0.7962 - val_loss: 0.5073 - val_accuracy: 0.7955\n",
      "Epoch 12/100\n",
      "536/536 [==============================] - 5s 9ms/step - loss: 0.5058 - accuracy: 0.7962 - val_loss: 0.5089 - val_accuracy: 0.7955\n",
      "Epoch 13/100\n",
      "536/536 [==============================] - 5s 8ms/step - loss: 0.5061 - accuracy: 0.7962 - val_loss: 0.5080 - val_accuracy: 0.7955\n",
      "Epoch 14/100\n",
      "536/536 [==============================] - 4s 8ms/step - loss: 0.5061 - accuracy: 0.7962 - val_loss: 0.5074 - val_accuracy: 0.7955\n",
      "Epoch 15/100\n",
      "536/536 [==============================] - 3s 5ms/step - loss: 0.5061 - accuracy: 0.7962 - val_loss: 0.5072 - val_accuracy: 0.7955\n",
      "Epoch 16/100\n",
      "536/536 [==============================] - 4s 8ms/step - loss: 0.5058 - accuracy: 0.7962 - val_loss: 0.5065 - val_accuracy: 0.7955\n",
      "Epoch 17/100\n",
      "536/536 [==============================] - 4s 8ms/step - loss: 0.5063 - accuracy: 0.7962 - val_loss: 0.5066 - val_accuracy: 0.7955\n",
      "Epoch 18/100\n",
      "536/536 [==============================] - 4s 7ms/step - loss: 0.5061 - accuracy: 0.7962 - val_loss: 0.5067 - val_accuracy: 0.7955\n",
      "Epoch 19/100\n",
      "536/536 [==============================] - 3s 5ms/step - loss: 0.5060 - accuracy: 0.7962 - val_loss: 0.5065 - val_accuracy: 0.7955\n",
      "Epoch 20/100\n",
      "536/536 [==============================] - 3s 6ms/step - loss: 0.5064 - accuracy: 0.7962 - val_loss: 0.5065 - val_accuracy: 0.7955\n",
      "Epoch 21/100\n",
      "536/536 [==============================] - 3s 6ms/step - loss: 0.5059 - accuracy: 0.7962 - val_loss: 0.5068 - val_accuracy: 0.7955\n",
      "Epoch 22/100\n",
      "536/536 [==============================] - 3s 6ms/step - loss: 0.5064 - accuracy: 0.7962 - val_loss: 0.5073 - val_accuracy: 0.7955\n",
      "Epoch 23/100\n",
      "536/536 [==============================] - 3s 6ms/step - loss: 0.5060 - accuracy: 0.7962 - val_loss: 0.5082 - val_accuracy: 0.7955\n",
      "Epoch 24/100\n",
      "536/536 [==============================] - 3s 6ms/step - loss: 0.5068 - accuracy: 0.7962 - val_loss: 0.5066 - val_accuracy: 0.7955\n",
      "Epoch 25/100\n",
      "536/536 [==============================] - 3s 5ms/step - loss: 0.5062 - accuracy: 0.7962 - val_loss: 0.5065 - val_accuracy: 0.7955\n",
      "Epoch 26/100\n",
      "536/536 [==============================] - 2s 4ms/step - loss: 0.5060 - accuracy: 0.7962 - val_loss: 0.5068 - val_accuracy: 0.7955\n",
      "Epoch 27/100\n",
      "536/536 [==============================] - 3s 6ms/step - loss: 0.5061 - accuracy: 0.7962 - val_loss: 0.5074 - val_accuracy: 0.7955\n",
      "Epoch 28/100\n",
      "536/536 [==============================] - 2s 4ms/step - loss: 0.5064 - accuracy: 0.7962 - val_loss: 0.5073 - val_accuracy: 0.7955\n",
      "Epoch 29/100\n",
      "536/536 [==============================] - 3s 6ms/step - loss: 0.5063 - accuracy: 0.7962 - val_loss: 0.5075 - val_accuracy: 0.7955\n",
      "Epoch 30/100\n",
      "536/536 [==============================] - 3s 6ms/step - loss: 0.5063 - accuracy: 0.7962 - val_loss: 0.5066 - val_accuracy: 0.7955\n",
      "Epoch 31/100\n",
      "536/536 [==============================] - 3s 6ms/step - loss: 0.5062 - accuracy: 0.7962 - val_loss: 0.5068 - val_accuracy: 0.7955\n",
      "Epoch 32/100\n",
      "536/536 [==============================] - 4s 7ms/step - loss: 0.5062 - accuracy: 0.7962 - val_loss: 0.5065 - val_accuracy: 0.7955\n",
      "Epoch 33/100\n",
      "536/536 [==============================] - 3s 5ms/step - loss: 0.5060 - accuracy: 0.7962 - val_loss: 0.5066 - val_accuracy: 0.7955\n",
      "Epoch 34/100\n",
      "536/536 [==============================] - 3s 6ms/step - loss: 0.5062 - accuracy: 0.7962 - val_loss: 0.5068 - val_accuracy: 0.7955\n",
      "Epoch 35/100\n",
      "536/536 [==============================] - 3s 6ms/step - loss: 0.5061 - accuracy: 0.7962 - val_loss: 0.5066 - val_accuracy: 0.7955\n",
      "Epoch 36/100\n",
      "536/536 [==============================] - 3s 5ms/step - loss: 0.5064 - accuracy: 0.7962 - val_loss: 0.5065 - val_accuracy: 0.7955\n",
      "Epoch 37/100\n",
      "536/536 [==============================] - 3s 6ms/step - loss: 0.5059 - accuracy: 0.7962 - val_loss: 0.5066 - val_accuracy: 0.7955\n",
      "Epoch 38/100\n",
      "536/536 [==============================] - 3s 5ms/step - loss: 0.5060 - accuracy: 0.7962 - val_loss: 0.5072 - val_accuracy: 0.7955\n",
      "Epoch 39/100\n",
      "536/536 [==============================] - 3s 5ms/step - loss: 0.5058 - accuracy: 0.7962 - val_loss: 0.5079 - val_accuracy: 0.7955\n",
      "Epoch 40/100\n",
      "536/536 [==============================] - 3s 6ms/step - loss: 0.5065 - accuracy: 0.7962 - val_loss: 0.5066 - val_accuracy: 0.7955\n",
      "Epoch 41/100\n",
      "536/536 [==============================] - 3s 5ms/step - loss: 0.5060 - accuracy: 0.7962 - val_loss: 0.5065 - val_accuracy: 0.7955\n",
      "Epoch 42/100\n",
      "536/536 [==============================] - 3s 6ms/step - loss: 0.5060 - accuracy: 0.7962 - val_loss: 0.5065 - val_accuracy: 0.7955\n",
      "Epoch 43/100\n",
      "536/536 [==============================] - 3s 6ms/step - loss: 0.5061 - accuracy: 0.7962 - val_loss: 0.5069 - val_accuracy: 0.7955\n",
      "Epoch 44/100\n",
      "536/536 [==============================] - 3s 6ms/step - loss: 0.5060 - accuracy: 0.7962 - val_loss: 0.5074 - val_accuracy: 0.7955\n",
      "Epoch 45/100\n",
      "536/536 [==============================] - 4s 7ms/step - loss: 0.5059 - accuracy: 0.7962 - val_loss: 0.5067 - val_accuracy: 0.7955\n",
      "Epoch 46/100\n",
      "536/536 [==============================] - 3s 6ms/step - loss: 0.5061 - accuracy: 0.7962 - val_loss: 0.5065 - val_accuracy: 0.7955\n",
      "Epoch 47/100\n",
      "536/536 [==============================] - 3s 6ms/step - loss: 0.5064 - accuracy: 0.7962 - val_loss: 0.5070 - val_accuracy: 0.7955\n",
      "Epoch 48/100\n",
      "536/536 [==============================] - 3s 6ms/step - loss: 0.5061 - accuracy: 0.7962 - val_loss: 0.5069 - val_accuracy: 0.7955\n",
      "Epoch 49/100\n",
      "536/536 [==============================] - 3s 6ms/step - loss: 0.5061 - accuracy: 0.7962 - val_loss: 0.5069 - val_accuracy: 0.7955\n",
      "Epoch 50/100\n",
      "536/536 [==============================] - 3s 5ms/step - loss: 0.5057 - accuracy: 0.7962 - val_loss: 0.5082 - val_accuracy: 0.7955\n",
      "Epoch 51/100\n",
      "536/536 [==============================] - 3s 5ms/step - loss: 0.5062 - accuracy: 0.7962 - val_loss: 0.5069 - val_accuracy: 0.7955\n",
      "Epoch 52/100\n",
      "536/536 [==============================] - 3s 6ms/step - loss: 0.5062 - accuracy: 0.7962 - val_loss: 0.5066 - val_accuracy: 0.7955\n",
      "Epoch 53/100\n",
      "536/536 [==============================] - 3s 6ms/step - loss: 0.5059 - accuracy: 0.7962 - val_loss: 0.5065 - val_accuracy: 0.7955\n",
      "Epoch 54/100\n",
      "536/536 [==============================] - 3s 5ms/step - loss: 0.5061 - accuracy: 0.7962 - val_loss: 0.5065 - val_accuracy: 0.7955\n",
      "Epoch 55/100\n",
      "536/536 [==============================] - 3s 5ms/step - loss: 0.5058 - accuracy: 0.7962 - val_loss: 0.5079 - val_accuracy: 0.7955\n",
      "Epoch 56/100\n",
      "536/536 [==============================] - 3s 6ms/step - loss: 0.5063 - accuracy: 0.7962 - val_loss: 0.5065 - val_accuracy: 0.7955\n",
      "Epoch 57/100\n",
      "536/536 [==============================] - 3s 5ms/step - loss: 0.5060 - accuracy: 0.7962 - val_loss: 0.5067 - val_accuracy: 0.7955\n"
     ]
    },
    {
     "name": "stdout",
     "output_type": "stream",
     "text": [
      "Epoch 58/100\n",
      "536/536 [==============================] - 3s 6ms/step - loss: 0.5059 - accuracy: 0.7962 - val_loss: 0.5068 - val_accuracy: 0.7955\n",
      "Epoch 59/100\n",
      "536/536 [==============================] - 3s 5ms/step - loss: 0.5062 - accuracy: 0.7962 - val_loss: 0.5068 - val_accuracy: 0.7955\n",
      "Epoch 60/100\n",
      "536/536 [==============================] - 3s 5ms/step - loss: 0.5062 - accuracy: 0.7962 - val_loss: 0.5066 - val_accuracy: 0.7955\n",
      "Epoch 61/100\n",
      "536/536 [==============================] - 3s 5ms/step - loss: 0.5061 - accuracy: 0.7962 - val_loss: 0.5065 - val_accuracy: 0.7955\n",
      "Epoch 62/100\n",
      "536/536 [==============================] - 3s 5ms/step - loss: 0.5062 - accuracy: 0.7962 - val_loss: 0.5066 - val_accuracy: 0.7955\n",
      "Epoch 63/100\n",
      "536/536 [==============================] - 3s 5ms/step - loss: 0.5061 - accuracy: 0.7962 - val_loss: 0.5068 - val_accuracy: 0.7955\n",
      "Epoch 64/100\n",
      "536/536 [==============================] - 3s 5ms/step - loss: 0.5065 - accuracy: 0.7962 - val_loss: 0.5066 - val_accuracy: 0.7955\n",
      "Epoch 65/100\n",
      "536/536 [==============================] - 3s 5ms/step - loss: 0.5058 - accuracy: 0.7962 - val_loss: 0.5076 - val_accuracy: 0.7955\n",
      "Epoch 66/100\n",
      "536/536 [==============================] - 3s 6ms/step - loss: 0.5061 - accuracy: 0.7962 - val_loss: 0.5074 - val_accuracy: 0.7955\n",
      "Epoch 67/100\n",
      "536/536 [==============================] - 3s 5ms/step - loss: 0.5061 - accuracy: 0.7962 - val_loss: 0.5066 - val_accuracy: 0.7955\n",
      "Epoch 68/100\n",
      "536/536 [==============================] - 3s 5ms/step - loss: 0.5062 - accuracy: 0.7962 - val_loss: 0.5070 - val_accuracy: 0.7955\n",
      "Epoch 69/100\n",
      "536/536 [==============================] - 3s 6ms/step - loss: 0.5062 - accuracy: 0.7962 - val_loss: 0.5066 - val_accuracy: 0.7955\n",
      "Epoch 70/100\n",
      "536/536 [==============================] - 2s 4ms/step - loss: 0.5061 - accuracy: 0.7962 - val_loss: 0.5066 - val_accuracy: 0.7955\n",
      "Epoch 71/100\n",
      "536/536 [==============================] - 3s 5ms/step - loss: 0.5060 - accuracy: 0.7962 - val_loss: 0.5066 - val_accuracy: 0.7955\n",
      "Epoch 72/100\n",
      "536/536 [==============================] - 3s 6ms/step - loss: 0.5062 - accuracy: 0.7962 - val_loss: 0.5065 - val_accuracy: 0.7955\n",
      "Epoch 73/100\n",
      "536/536 [==============================] - 3s 6ms/step - loss: 0.5060 - accuracy: 0.7962 - val_loss: 0.5074 - val_accuracy: 0.7955\n",
      "Epoch 74/100\n",
      "536/536 [==============================] - 3s 6ms/step - loss: 0.5060 - accuracy: 0.7962 - val_loss: 0.5075 - val_accuracy: 0.7955\n",
      "Epoch 75/100\n",
      "536/536 [==============================] - 3s 6ms/step - loss: 0.5057 - accuracy: 0.7962 - val_loss: 0.5067 - val_accuracy: 0.7955\n",
      "Epoch 76/100\n",
      "536/536 [==============================] - 3s 5ms/step - loss: 0.5058 - accuracy: 0.7962 - val_loss: 0.5066 - val_accuracy: 0.7955\n",
      "Epoch 77/100\n",
      "536/536 [==============================] - 3s 5ms/step - loss: 0.5056 - accuracy: 0.7962 - val_loss: 0.5087 - val_accuracy: 0.7955\n",
      "Epoch 78/100\n",
      "536/536 [==============================] - 3s 5ms/step - loss: 0.5056 - accuracy: 0.7962 - val_loss: 0.5083 - val_accuracy: 0.7955\n",
      "Epoch 79/100\n",
      "536/536 [==============================] - 3s 5ms/step - loss: 0.5063 - accuracy: 0.7962 - val_loss: 0.5074 - val_accuracy: 0.7955\n",
      "Epoch 80/100\n",
      "536/536 [==============================] - 2s 5ms/step - loss: 0.5062 - accuracy: 0.7962 - val_loss: 0.5066 - val_accuracy: 0.7955\n",
      "Epoch 81/100\n",
      "536/536 [==============================] - 3s 5ms/step - loss: 0.5060 - accuracy: 0.7962 - val_loss: 0.5067 - val_accuracy: 0.7955\n",
      "Epoch 82/100\n",
      "536/536 [==============================] - 2s 5ms/step - loss: 0.5063 - accuracy: 0.7962 - val_loss: 0.5070 - val_accuracy: 0.7955\n",
      "Epoch 83/100\n",
      "536/536 [==============================] - 2s 5ms/step - loss: 0.5062 - accuracy: 0.7962 - val_loss: 0.5067 - val_accuracy: 0.7955\n",
      "Epoch 84/100\n",
      "536/536 [==============================] - 3s 5ms/step - loss: 0.5059 - accuracy: 0.7962 - val_loss: 0.5066 - val_accuracy: 0.7955\n",
      "Epoch 85/100\n",
      "536/536 [==============================] - 3s 6ms/step - loss: 0.5058 - accuracy: 0.7962 - val_loss: 0.5065 - val_accuracy: 0.7955\n",
      "Epoch 86/100\n",
      "536/536 [==============================] - 3s 5ms/step - loss: 0.5058 - accuracy: 0.7962 - val_loss: 0.5069 - val_accuracy: 0.7955\n",
      "Epoch 87/100\n",
      "536/536 [==============================] - 3s 6ms/step - loss: 0.5061 - accuracy: 0.7962 - val_loss: 0.5068 - val_accuracy: 0.7955\n",
      "Epoch 88/100\n",
      "536/536 [==============================] - 3s 6ms/step - loss: 0.5056 - accuracy: 0.7962 - val_loss: 0.5080 - val_accuracy: 0.7955\n",
      "Epoch 89/100\n",
      "536/536 [==============================] - 3s 6ms/step - loss: 0.5060 - accuracy: 0.7962 - val_loss: 0.5070 - val_accuracy: 0.7955\n",
      "Epoch 90/100\n",
      "536/536 [==============================] - 3s 6ms/step - loss: 0.5063 - accuracy: 0.7962 - val_loss: 0.5065 - val_accuracy: 0.7955\n",
      "Epoch 91/100\n",
      "536/536 [==============================] - 4s 7ms/step - loss: 0.5059 - accuracy: 0.7962 - val_loss: 0.5073 - val_accuracy: 0.7955\n",
      "Epoch 92/100\n",
      "536/536 [==============================] - 3s 6ms/step - loss: 0.5059 - accuracy: 0.7962 - val_loss: 0.5067 - val_accuracy: 0.7955\n",
      "Epoch 93/100\n",
      "536/536 [==============================] - 4s 7ms/step - loss: 0.5060 - accuracy: 0.7962 - val_loss: 0.5070 - val_accuracy: 0.7955\n",
      "Epoch 94/100\n",
      "536/536 [==============================] - 3s 5ms/step - loss: 0.5059 - accuracy: 0.7962 - val_loss: 0.5065 - val_accuracy: 0.7955\n",
      "Epoch 95/100\n",
      "536/536 [==============================] - 3s 6ms/step - loss: 0.5061 - accuracy: 0.7962 - val_loss: 0.5069 - val_accuracy: 0.7955\n",
      "Epoch 96/100\n",
      "536/536 [==============================] - 3s 5ms/step - loss: 0.5059 - accuracy: 0.7962 - val_loss: 0.5073 - val_accuracy: 0.7955\n",
      "Epoch 97/100\n",
      "536/536 [==============================] - 2s 5ms/step - loss: 0.5060 - accuracy: 0.7962 - val_loss: 0.5066 - val_accuracy: 0.7955\n",
      "Epoch 98/100\n",
      "536/536 [==============================] - 3s 6ms/step - loss: 0.5056 - accuracy: 0.7962 - val_loss: 0.5075 - val_accuracy: 0.7955\n",
      "Epoch 99/100\n",
      "536/536 [==============================] - 3s 5ms/step - loss: 0.5061 - accuracy: 0.7962 - val_loss: 0.5066 - val_accuracy: 0.7955\n",
      "Epoch 100/100\n",
      "536/536 [==============================] - 3s 6ms/step - loss: 0.5059 - accuracy: 0.7962 - val_loss: 0.5066 - val_accuracy: 0.7955\n"
     ]
    }
   ],
   "source": [
    "# Fitting the ANN to the training set\n",
    "model_history = classifier.fit(X_train,y_train, validation_split=0.33,batch_size = 10, epochs=100)"
   ]
  },
  {
   "cell_type": "code",
   "execution_count": 39,
   "id": "7ae400f7",
   "metadata": {},
   "outputs": [
    {
     "name": "stdout",
     "output_type": "stream",
     "text": [
      "dict_keys(['loss', 'accuracy', 'val_loss', 'val_accuracy'])\n"
     ]
    }
   ],
   "source": [
    "print(model_history.history.keys())"
   ]
  },
  {
   "cell_type": "code",
   "execution_count": 42,
   "id": "f6b89de2",
   "metadata": {},
   "outputs": [
    {
     "data": {
      "image/png": "[encoded data removed]",
      "text/plain": [
       "<Figure size 432x288 with 1 Axes>"
      ]
     },
     "metadata": {
      "needs_background": "light"
     },
     "output_type": "display_data"
    }
   ],
   "source": [
    "# summarize history for accuracy\n",
    "import matplotlib.pyplot as plt\n",
    "plt.plot(model_history.history['accuracy'])\n",
    "plt.plot(model_history.history['val_accuracy'])\n",
    "plt.title('model accuracy')\n",
    "plt.xlabel('accuracy')\n",
    "plt.xlabel('epoch')\n",
    "plt.legend(['train','test'],loc='upper left')\n",
    "plt.show()"
   ]
  },
  {
   "cell_type": "code",
   "execution_count": 43,
   "id": "005f2b28",
   "metadata": {},
   "outputs": [
    {
     "name": "stdout",
     "output_type": "stream",
     "text": [
      "63/63 [==============================] - 1s 3ms/step\n"
     ]
    }
   ],
   "source": [
    "# Predicting the test set result\n",
    "y_pred = classifier.predict(X_test)\n",
    "y_pred = (y_pred>0.5)"
   ]
  },
  {
   "cell_type": "code",
   "execution_count": 44,
   "id": "0c121a7c",
   "metadata": {},
   "outputs": [],
   "source": [
    "# Calculating the confusion matrix\n",
    "from sklearn.metrics import confusion_matrix\n",
    "cm = confusion_matrix(y_test,y_pred)"
   ]
  },
  {
   "cell_type": "code",
   "execution_count": 46,
   "id": "9b9d1d4e",
   "metadata": {},
   "outputs": [
    {
     "data": {
      "text/plain": [
       "0.7975"
      ]
     },
     "execution_count": 46,
     "metadata": {},
     "output_type": "execute_result"
    }
   ],
   "source": [
    "# Calculate the accuracy\n",
    "from sklearn.metrics import accuracy_score\n",
    "score = accuracy_score(y_pred,y_test)\n",
    "score"
   ]
  }
 ],
 "metadata": {
  "kernelspec": {
   "display_name": "Python 3 (ipykernel)",
   "language": "python",
   "name": "python3"
  },
  "language_info": {
   "codemirror_mode": {
    "name": "ipython",
    "version": 3
   },
   "file_extension": ".py",
   "mimetype": "text/x-python",
   "name": "python",
   "nbconvert_exporter": "python",
   "pygments_lexer": "ipython3",
   "version": "3.10.5"
  }
 },
 "nbformat": 4,
 "nbformat_minor": 5
}
